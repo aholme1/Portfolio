{
 "cells": [
  {
   "cell_type": "markdown",
   "id": "ef0e5505-06e1-4efa-ab8d-9dec21e201c2",
   "metadata": {},
   "source": [
    "# Matplotlib Animations\n",
    "\n",
    "In this notebook I will explore some of the animations present in matplotlib using widget, as well as get a better understanding of different types of distributions."
   ]
  },
  {
   "cell_type": "code",
   "execution_count": 3,
   "id": "10c3ae97-98e4-42d2-8a0f-9c04dafb1d75",
   "metadata": {},
   "outputs": [],
   "source": [
    "%matplotlib widget\n",
    "#Use cell magic to enable the animations present in this notebook\n",
    "\n",
    "# import necessary libraries:\n",
    "import matplotlib.pyplot as plt\n",
    "import matplotlib.animation as animation\n",
    "from matplotlib.widgets import Slider\n",
    "import numpy as np\n",
    "from matplotlib.animation import PillowWriter"
   ]
  },
  {
   "cell_type": "markdown",
   "id": "a5247f71-e162-44f4-aab1-fdedd642a57f",
   "metadata": {},
   "source": [
    "# Create Data for Plots:\n",
    "\n",
    "I will be animating a random, normal and gamma distribution to show their differences. For each type of distribution, I will generate whole numbers 0-10."
   ]
  },
  {
   "cell_type": "code",
   "execution_count": 7,
   "id": "050bfdec-38a3-43e9-8057-dc286d8ffb01",
   "metadata": {},
   "outputs": [],
   "source": [
    "# Random distribution:\n",
    "n = 100\n",
    "\n",
    "#plotting function:\n",
    "def random_dist(curr):\n",
    "    #Later I will set n as the number of values I would like to generate. If the current value = the number of total points I want to plot\n",
    "    #end the animation, otherwise keep plotting.\n",
    "    if curr == n: \n",
    "        rand_anim.event_source.stop()\n",
    "\n",
    "    #clear the current axis\n",
    "    rand_ax.cla()\n",
    "\n",
    "    #set the bins to a predicitable value\n",
    "    bins = np.arange(0, 12) - 0.5\n",
    "\n",
    "    #create the histogram plot using a global random array, pull values up until the current value.\n",
    "    rand_ax.hist(rand[:curr], bins=bins, color='blue', alpha=0.5)\n",
    "\n",
    "    #format the plot:\n",
    "    rand_ax.axis([0, 10, 0, 30])\n",
    "    rand_ax.set_title('Random')\n",
    "\n",
    "    #Add an annotation to indicate how many values have been plotted. Set the xy coordinates it will be displayed at\n",
    "    rand_ax.annotate('n = {}'.format(curr), [5, 27])\n",
    "\n",
    "#Use numpy to create a random distribution:\n",
    "rand = np.random.randint(0, 11, size=n)"
   ]
  },
  {
   "cell_type": "code",
   "execution_count": 9,
   "id": "6a9523d6-f5a7-46ce-94d8-2caf365980b1",
   "metadata": {},
   "outputs": [],
   "source": [
    "#Normal Distribution:\n",
    "\n",
    "#plotting function:\n",
    "def normal_dist(curr):\n",
    "    #Later I will set n as the number of values I would like to generate. If the current value = the number of total points I want to plot\n",
    "    #end the animation, otherwise keep plotting.\n",
    "    if curr == n: \n",
    "        norm_anim.event_source.stop()\n",
    "\n",
    "    #clear the current axis\n",
    "    norm_ax.cla()\n",
    "\n",
    "    #set the bins to a predicitable value\n",
    "    bins = np.arange(0, 12) - 0.5\n",
    "\n",
    "    #create the histogram plot using a global normal array, pull values up until the current value.\n",
    "    norm_ax.hist(norm[:curr], bins=bins, color='red', alpha=0.5)\n",
    "\n",
    "    #format the plot:\n",
    "    norm_ax.axis([0, 10, 0, 30])\n",
    "    norm_ax.set_title('Normal')\n",
    "\n",
    "    #Add an annotation to indicate how many values have been plotted. Set the xy coordinates it will be displayed at\n",
    "    norm_ax.annotate('n = {}'.format(curr), [5, 27])\n",
    "    \n",
    "#Use numpy to create a normal distribution:\n",
    "norm = np.clip(np.round(np.random.normal(5, 2, size=n)), 0, 10).astype(int)"
   ]
  },
  {
   "cell_type": "code",
   "execution_count": 11,
   "id": "557aff95-54dc-4495-9d7c-4cdfb28e9dda",
   "metadata": {},
   "outputs": [],
   "source": [
    "#Gamma Distribution:\n",
    "\n",
    "#plotting function:\n",
    "def gamma_dist(curr):\n",
    "    #Later I will set n as the number of values I would like to generate. If the current value = the number of total points I want to plot\n",
    "    #end the animation, otherwise keep plotting.\n",
    "    if curr == n: \n",
    "        gamma_anim.event_source.stop()\n",
    "\n",
    "    #clear the current axis\n",
    "    gamma_ax.cla()\n",
    "\n",
    "    #set the bins to a predicitable value\n",
    "    bins = np.arange(0, 12) - 0.5\n",
    "\n",
    "    #create the histogram plot using a global normal array, pull values up until the current value.\n",
    "    gamma_ax.hist(gamma[:curr], bins=bins, color='green', alpha=0.5)\n",
    "\n",
    "    #format the plot:\n",
    "    gamma_ax.axis([0, 10, 0, 30])\n",
    "    gamma_ax.set_title('Gamma')\n",
    "\n",
    "    #Add an annotation to indicate how many values have been plotted. Set the xy coordinates it will be displayed at\n",
    "    gamma_ax.annotate('n = {}'.format(curr), [5, 27])\n",
    "    \n",
    "#Use numpy to create a normal distribution:\n",
    "gamma = np.clip(np.round(np.random.gamma(2, 2, size=n)), 0, 10).astype(int)"
   ]
  },
  {
   "cell_type": "markdown",
   "id": "40bd842b-1ba0-4490-9abc-f2776d70b033",
   "metadata": {},
   "source": [
    "# Generate Plots:"
   ]
  },
  {
   "cell_type": "markdown",
   "id": "a9004134-eb20-4641-8db9-490b895c5ff9",
   "metadata": {},
   "source": [
    "Animated:"
   ]
  },
  {
   "cell_type": "code",
   "execution_count": 15,
   "id": "0f2df073-9df3-4f62-b721-d09ca8493bcf",
   "metadata": {},
   "outputs": [
    {
     "data": {
      "application/vnd.jupyter.widget-view+json": {
       "model_id": "47dc9d6614ba44e6aa59bac0da0fec75",
       "version_major": 2,
       "version_minor": 0
      },
      "image/png": "[encoded data removed]",
      "text/html": [
       "\n",
       "            <div style=\"display: inline-block;\">\n",
       "                <div class=\"jupyter-widgets widget-label\" style=\"text-align: center;\">\n",
       "                    Figure\n",
       "                </div>\n",
       "                <img src='data:image/png;base64,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' width=700.0/>\n",
       "            </div>\n",
       "        "
      ],
      "text/plain": [
       "Canvas(toolbar=Toolbar(toolitems=[('Home', 'Reset original view', 'home', 'home'), ('Back', 'Back to previous …"
      ]
     },
     "metadata": {},
     "output_type": "display_data"
    }
   ],
   "source": [
    "#Set n, the number of points to be included in the graph\n",
    "n = 100\n",
    "\n",
    "#Set subplot assignment, layout and size\n",
    "fig, ((norm_ax,rand_ax,gamma_ax)) = plt.subplots(1,3, figsize=(7, 2.5),sharex=True)\n",
    "\n",
    "# Create animations\n",
    "norm_anim = animation.FuncAnimation(fig, normal_dist, cache_frame_data=False, interval=100)\n",
    "rand_anim = animation.FuncAnimation(fig, random_dist, cache_frame_data=False,interval=100)\n",
    "gamma_anim = animation.FuncAnimation(fig, gamma_dist, cache_frame_data=False,interval=100)\n",
    "\n",
    "plt.show()"
   ]
  },
  {
   "cell_type": "markdown",
   "id": "d8a4f672-e87c-410f-b171-3fdf09f096b0",
   "metadata": {},
   "source": []
  },
  {
   "cell_type": "code",
   "execution_count": null,
   "id": "8f19c2b5-fcec-4228-808f-7d198b58d529",
   "metadata": {},
   "outputs": [],
   "source": []
  },
  {
   "cell_type": "code",
   "execution_count": null,
   "id": "dc6e44ac-44d6-4ebe-81ce-858559b453a9",
   "metadata": {},
   "outputs": [],
   "source": []
  }
 ],
 "metadata": {
  "kernelspec": {
   "display_name": "Python 3 (ipykernel)",
   "language": "python",
   "name": "python3"
  },
  "language_info": {
   "codemirror_mode": {
    "name": "ipython",
    "version": 3
   },
   "file_extension": ".py",
   "mimetype": "text/x-python",
   "name": "python",
   "nbconvert_exporter": "python",
   "pygments_lexer": "ipython3",
   "version": "3.12.3"
  }
 },
 "nbformat": 4,
 "nbformat_minor": 5
}
