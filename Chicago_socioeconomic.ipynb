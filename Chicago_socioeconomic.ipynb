{
 "cells": [
  {
   "cell_type": "markdown",
   "id": "79bff214-2729-424c-8ef1-cef895258aa1",
   "metadata": {},
   "source": [
    "# Creating Database:"
   ]
  },
  {
   "cell_type": "markdown",
   "id": "a60cbc54-9f33-4d87-b901-3c2a5b6bb1a2",
   "metadata": {},
   "source": [
    "Prepare notebook to run sql:"
   ]
  },
  {
   "cell_type": "code",
   "execution_count": 8,
   "id": "232633b0-e0a0-4027-863c-5f8f1627c765",
   "metadata": {},
   "outputs": [],
   "source": [
    "# pip install sqlalchemy #if necessary\n",
    "# pip install ipython-sql\n",
    "%load_ext sql"
   ]
  },
  {
   "cell_type": "code",
   "execution_count": 81,
   "id": "f2139cd0-1176-4850-b94e-1ecbf545a37e",
   "metadata": {},
   "outputs": [],
   "source": [
    "import csv, sqlite3\n",
    "#connect to db, create connection and cursor variables:\n",
    "con = sqlite3.connect(\"socioeconomic.db\")\n",
    "cur = con.cursor()"
   ]
  },
  {
   "cell_type": "code",
   "execution_count": 83,
   "id": "7e6464e8-52c3-40ac-910c-ae46f7d3b42e",
   "metadata": {},
   "outputs": [],
   "source": [
    "%sql sqlite:///socioeconomic.db"
   ]
  },
  {
   "cell_type": "code",
   "execution_count": 38,
   "id": "22c1f7aa-3ece-46c8-a075-bbb8416f018d",
   "metadata": {},
   "outputs": [
    {
     "name": "stdout",
     "output_type": "stream",
     "text": [
      " * sqlite:///socioeconomic.db\n",
      "Done.\n"
     ]
    },
    {
     "data": {
      "text/html": [
       "<table>\n",
       "    <thead>\n",
       "        <tr>\n",
       "            <th>Community_Area_Number</th>\n",
       "            <th>COMMUNITY_AREA_NAME</th>\n",
       "            <th>PERCENT_OF_HOUSING_CROWDED</th>\n",
       "            <th>PERCENT_HOUSEHOLDS_BELOW_POVERTY</th>\n",
       "            <th>PERCENT_AGED_16_UNEMPLOYED</th>\n",
       "            <th>PERCENT_AGED_25_WITHOUT_HIGH_SCHOOL_DIPLOMA</th>\n",
       "            <th>PERCENT_AGED_UNDER_18_OR_OVER_64</th>\n",
       "            <th>PER_CAPITA_INCOME_</th>\n",
       "            <th>HARDSHIP_INDEX</th>\n",
       "        </tr>\n",
       "    </thead>\n",
       "    <tbody>\n",
       "        <tr>\n",
       "            <td>1.0</td>\n",
       "            <td>Rogers Park</td>\n",
       "            <td>7.7</td>\n",
       "            <td>23.6</td>\n",
       "            <td>8.7</td>\n",
       "            <td>18.2</td>\n",
       "            <td>27.5</td>\n",
       "            <td>23939</td>\n",
       "            <td>39.0</td>\n",
       "        </tr>\n",
       "        <tr>\n",
       "            <td>2.0</td>\n",
       "            <td>West Ridge</td>\n",
       "            <td>7.8</td>\n",
       "            <td>17.2</td>\n",
       "            <td>8.8</td>\n",
       "            <td>20.8</td>\n",
       "            <td>38.5</td>\n",
       "            <td>23040</td>\n",
       "            <td>46.0</td>\n",
       "        </tr>\n",
       "        <tr>\n",
       "            <td>3.0</td>\n",
       "            <td>Uptown</td>\n",
       "            <td>3.8</td>\n",
       "            <td>24.0</td>\n",
       "            <td>8.9</td>\n",
       "            <td>11.8</td>\n",
       "            <td>22.2</td>\n",
       "            <td>35787</td>\n",
       "            <td>20.0</td>\n",
       "        </tr>\n",
       "        <tr>\n",
       "            <td>4.0</td>\n",
       "            <td>Lincoln Square</td>\n",
       "            <td>3.4</td>\n",
       "            <td>10.9</td>\n",
       "            <td>8.2</td>\n",
       "            <td>13.4</td>\n",
       "            <td>25.5</td>\n",
       "            <td>37524</td>\n",
       "            <td>17.0</td>\n",
       "        </tr>\n",
       "        <tr>\n",
       "            <td>5.0</td>\n",
       "            <td>North Center</td>\n",
       "            <td>0.3</td>\n",
       "            <td>7.5</td>\n",
       "            <td>5.2</td>\n",
       "            <td>4.5</td>\n",
       "            <td>26.2</td>\n",
       "            <td>57123</td>\n",
       "            <td>6.0</td>\n",
       "        </tr>\n",
       "    </tbody>\n",
       "</table>"
      ],
      "text/plain": [
       "[(1.0, 'Rogers Park', 7.7, 23.6, 8.7, 18.2, 27.5, 23939, 39.0),\n",
       " (2.0, 'West Ridge', 7.8, 17.2, 8.8, 20.8, 38.5, 23040, 46.0),\n",
       " (3.0, 'Uptown', 3.8, 24.0, 8.9, 11.8, 22.2, 35787, 20.0),\n",
       " (4.0, 'Lincoln Square', 3.4, 10.9, 8.2, 13.4, 25.5, 37524, 17.0),\n",
       " (5.0, 'North Center', 0.3, 7.5, 5.2, 4.5, 26.2, 57123, 6.0)]"
      ]
     },
     "execution_count": 38,
     "metadata": {},
     "output_type": "execute_result"
    }
   ],
   "source": [
    "import pandas as pd\n",
    "#read in data and write to sql\n",
    "df = pd.read_csv('Chicago_Census_Data.csv')\n",
    "#remove spaces from column names and replace with '_'\n",
    "df.columns = df.columns.str.replace(' ', '_')\n",
    "#drop the '+'character as this will cause issues with sql commands\n",
    "df.columns = df.columns.str.replace('+', '')\n",
    "df.to_sql(\"chicago_socioeconomic_data\", con, if_exists='replace', index=False,method=\"multi\")\n",
    "#retrieve first 5 rows of data\n",
    "%sql SELECT * FROM chicago_socioeconomic_data limit 5;"
   ]
  },
  {
   "cell_type": "markdown",
   "id": "c2dfcb56-ba24-4d7e-becf-4826a56fedc5",
   "metadata": {},
   "source": [
    "# Data Exploration:"
   ]
  },
  {
   "cell_type": "markdown",
   "id": "cac2e3a9-9d5f-46d9-85c1-9476921b4ece",
   "metadata": {},
   "source": [
    "How many rows are in the dataset?"
   ]
  },
  {
   "cell_type": "code",
   "execution_count": 80,
   "id": "f085440f-8534-4790-973c-05500e7c597d",
   "metadata": {},
   "outputs": [
    {
     "name": "stdout",
     "output_type": "stream",
     "text": [
      "Number of rows using Pandas: 78\n",
      "\n",
      "Number of rows using Sql:\n",
      " * sqlite:///socioeconomic.db\n",
      "Done.\n"
     ]
    },
    {
     "data": {
      "text/html": [
       "<table>\n",
       "    <thead>\n",
       "        <tr>\n",
       "            <th>Number of rows</th>\n",
       "        </tr>\n",
       "    </thead>\n",
       "    <tbody>\n",
       "        <tr>\n",
       "            <td>78</td>\n",
       "        </tr>\n",
       "    </tbody>\n",
       "</table>"
      ],
      "text/plain": [
       "[(78,)]"
      ]
     },
     "execution_count": 80,
     "metadata": {},
     "output_type": "execute_result"
    }
   ],
   "source": [
    "#with pandas:\n",
    "print('Number of rows using Pandas: ' + str(len(df)))\n",
    "print()\n",
    "\n",
    "#With sql:\n",
    "print('Number of rows using Sql:')\n",
    "%sql SELECT count(*) as 'Number of rows' FROM chicago_socioeconomic_data"
   ]
  },
  {
   "cell_type": "markdown",
   "id": "ec09884a-8e2d-42a4-a75b-b5d706743023",
   "metadata": {},
   "source": [
    "How many communities have a hardship index greater than 50?"
   ]
  },
  {
   "cell_type": "code",
   "execution_count": 66,
   "id": "17f9b37b-597d-4ba1-b5ef-0ef6d74097c0",
   "metadata": {},
   "outputs": [
    {
     "name": "stdout",
     "output_type": "stream",
     "text": [
      "Number of communities where HARDSHIP INDEX is greater than 50 using Pandas: 38\n",
      "\n",
      "Number of communities using Sql:\n",
      " * sqlite:///socioeconomic.db\n",
      "Done.\n"
     ]
    },
    {
     "data": {
      "text/html": [
       "<table>\n",
       "    <thead>\n",
       "        <tr>\n",
       "            <th>Number of communities</th>\n",
       "        </tr>\n",
       "    </thead>\n",
       "    <tbody>\n",
       "        <tr>\n",
       "            <td>38</td>\n",
       "        </tr>\n",
       "    </tbody>\n",
       "</table>"
      ],
      "text/plain": [
       "[(38,)]"
      ]
     },
     "execution_count": 66,
     "metadata": {},
     "output_type": "execute_result"
    }
   ],
   "source": [
    "#using pandas:\n",
    "count = df[df['HARDSHIP_INDEX'] > 50].shape[0]\n",
    "\n",
    "print(f\"Number of communities where {'HARDSHIP INDEX'} is greater than {50} using Pandas: {count}\")\n",
    "print()\n",
    "\n",
    "#using SQL:\n",
    "print('Number of communities using Sql:')\n",
    "%sql SELECT count(*) as 'Number of communities' FROM chicago_socioeconomic_data WHERE HARDSHIP_INDEX > 50"
   ]
  },
  {
   "cell_type": "markdown",
   "id": "4517ad60-b76d-46ce-8931-f6914ac408d4",
   "metadata": {},
   "source": [
    "What is the community with the highest hardship index?"
   ]
  },
  {
   "cell_type": "code",
   "execution_count": 27,
   "id": "4150937d-9731-4f61-b4d0-14bc3938dd04",
   "metadata": {},
   "outputs": [
    {
     "name": "stdout",
     "output_type": "stream",
     "text": [
      "Using python:\n",
      "The community with the highest Hardship Index is: Riverdale with a hardship index of: 98.0\n",
      "\n",
      " * sqlite:///socioeconomic.db\n",
      "Done.\n",
      " * sqlite:///socioeconomic.db\n",
      "Done.\n",
      "\n",
      "Using sql:\n",
      "The community with the highest Hardship Index is: Riverdale with a hardship index of: 98.0\n"
     ]
    }
   ],
   "source": [
    "#using pandas:\n",
    "max_index = df['HARDSHIP_INDEX'].idxmax()\n",
    "community = df.loc[max_index, 'COMMUNITY_AREA_NAME']\n",
    "hardship = df.loc[max_index, 'HARDSHIP_INDEX']\n",
    "\n",
    "print('Using python:')\n",
    "print(f\"The community with the highest Hardship Index is: {community} with a hardship index of: {hardship}\")\n",
    "print()\n",
    "\n",
    "#using SQL:\n",
    "max = %sql SELECT MAX(hardship_index) FROM chicago_socioeconomic_data;\n",
    "max_value = max[0][0]\n",
    "\n",
    "community_sql = %sql SELECT community_area_name FROM chicago_socioeconomic_data \\\n",
    "where hardship_index=(SELECT MAX(hardship_index) FROM chicago_socioeconomic_data);\n",
    "\n",
    "community_value = community_sql[0][0]\n",
    "\n",
    "print()\n",
    "print('Using sql:')\n",
    "print(f\"The community with the highest Hardship Index is: {community_value} with a hardship index of: {max_value}\")"
   ]
  },
  {
   "cell_type": "markdown",
   "id": "3f09b541-f874-4169-a1eb-eb787579723f",
   "metadata": {},
   "source": [
    "Which communities have per capita income greater than $60k?"
   ]
  },
  {
   "cell_type": "code",
   "execution_count": 67,
   "id": "7fa5f44f-e361-4a37-a1b8-7fb88078173d",
   "metadata": {},
   "outputs": [
    {
     "name": "stdout",
     "output_type": "stream",
     "text": [
      "Using Python:\n",
      "The communities with per capita income above $60k/year are: ['Lake View', 'Lincoln Park', 'Near North Side', 'Loop']\n",
      "\n",
      "Using Sql:\n",
      " * sqlite:///socioeconomic.db\n",
      "Done.\n"
     ]
    },
    {
     "data": {
      "text/html": [
       "<table>\n",
       "    <thead>\n",
       "        <tr>\n",
       "            <th>High Income Areas</th>\n",
       "            <th>Per Capita Income</th>\n",
       "        </tr>\n",
       "    </thead>\n",
       "    <tbody>\n",
       "        <tr>\n",
       "            <td>Lake View</td>\n",
       "            <td>60058</td>\n",
       "        </tr>\n",
       "        <tr>\n",
       "            <td>Lincoln Park</td>\n",
       "            <td>71551</td>\n",
       "        </tr>\n",
       "        <tr>\n",
       "            <td>Near North Side</td>\n",
       "            <td>88669</td>\n",
       "        </tr>\n",
       "        <tr>\n",
       "            <td>Loop</td>\n",
       "            <td>65526</td>\n",
       "        </tr>\n",
       "    </tbody>\n",
       "</table>"
      ],
      "text/plain": [
       "[('Lake View', 60058),\n",
       " ('Lincoln Park', 71551),\n",
       " ('Near North Side', 88669),\n",
       " ('Loop', 65526)]"
      ]
     },
     "execution_count": 67,
     "metadata": {},
     "output_type": "execute_result"
    }
   ],
   "source": [
    "#using python:\n",
    "h_income_comms = df[df['PER_CAPITA_INCOME_'] > 60000]['COMMUNITY_AREA_NAME'].tolist()\n",
    "print('Using Python:')\n",
    "print(f\"The communities with per capita income above $60k/year are: {h_income_comms}\")\n",
    "print()\n",
    "\n",
    "#Using sql:\n",
    "print('Using Sql:')\n",
    "%sql SELECT COMMUNITY_AREA_NAME as 'High Income Areas', PER_CAPITA_INCOME_ as 'Per Capita Income'\\\n",
    "FROM chicago_socioeconomic_data WHERE PER_CAPITA_INCOME_ > 60000"
   ]
  },
  {
   "cell_type": "markdown",
   "id": "6063c65a-abc2-41c9-92fe-2178f8cc3b57",
   "metadata": {},
   "source": [
    "What is the relationship between per capita income and hardship index?"
   ]
  },
  {
   "cell_type": "code",
   "execution_count": 32,
   "id": "e780e938-06e2-4a85-af90-f489d20ea22d",
   "metadata": {},
   "outputs": [
    {
     "name": "stdout",
     "output_type": "stream",
     "text": [
      " * sqlite:///socioeconomic.db\n",
      "Done.\n"
     ]
    },
    {
     "data": {
      "image/png": "[encoded data removed]",
      "text/plain": [
       "<Figure size 600x600 with 3 Axes>"
      ]
     },
     "metadata": {},
     "output_type": "display_data"
    }
   ],
   "source": [
    "import matplotlib.pyplot as plt\n",
    "import seaborn as sns\n",
    "import scipy.stats as stats\n",
    "\n",
    "#pull data using sql for plot\n",
    "plot_data = %sql SELECT PER_CAPITA_INCOME_, HARDSHIP_INDEX FROM chicago_socioeconomic_data;\n",
    "plot_data = plot_data.DataFrame()\n",
    "\n",
    "# configure plot\n",
    "plot = sns.jointplot(x='PER_CAPITA_INCOME_',y='HARDSHIP_INDEX', data=plot_data)\n",
    "\n",
    "# format plot\n",
    "plt.xlabel('Per Capita Income ($)')\n",
    "plt.ylabel('Hardship Index')\n",
    "plot.fig.suptitle('Income vs. Hardship in Chicago')\n",
    "plot.fig.tight_layout()\n",
    "plot.fig.subplots_adjust(top=0.95)\n",
    "plt.show()"
   ]
  },
  {
   "cell_type": "markdown",
   "id": "72687dbe-6585-4935-bb19-d0e2d6d5ea36",
   "metadata": {},
   "source": [
    "Conclusion: As Per Capita Income increases, the hardship index decreases. There is a negative correlation between the two."
   ]
  },
  {
   "cell_type": "markdown",
   "id": "4bea7681-b649-4044-9adf-78fa3fba1ff3",
   "metadata": {},
   "source": [
    "What is the relationship between per capita income and employment of 16 year olds?"
   ]
  },
  {
   "cell_type": "code",
   "execution_count": 40,
   "id": "d3e63970-d79a-4489-9042-0fc0eda065cf",
   "metadata": {},
   "outputs": [
    {
     "name": "stdout",
     "output_type": "stream",
     "text": [
      " * sqlite:///socioeconomic.db\n",
      "Done.\n"
     ]
    },
    {
     "data": {
      "image/png": "[encoded data removed]",
      "text/plain": [
       "<Figure size 600x600 with 3 Axes>"
      ]
     },
     "metadata": {},
     "output_type": "display_data"
    }
   ],
   "source": [
    "#pull data using sql for plot\n",
    "plot_data = %sql SELECT PER_CAPITA_INCOME_, PERCENT_AGED_16_UNEMPLOYED FROM chicago_socioeconomic_data;\n",
    "plot_data = plot_data.DataFrame()\n",
    "\n",
    "# configure plot\n",
    "plot = sns.jointplot(x='PER_CAPITA_INCOME_',y='PERCENT_AGED_16_UNEMPLOYED', data=plot_data)\n",
    "\n",
    "# format plot\n",
    "plt.xlabel('Per Capita Income ($)')\n",
    "plt.ylabel('Age 16 Unemployment (%)')\n",
    "plot.fig.suptitle('Income vs. Hardship in Chicago')\n",
    "plot.fig.tight_layout()\n",
    "plot.fig.subplots_adjust(top=0.95)\n",
    "plt.show()"
   ]
  },
  {
   "cell_type": "markdown",
   "id": "46409e65-ed67-4784-866c-d904a15906ef",
   "metadata": {},
   "source": [
    "Conclusion: Unemployment rates decrease among 16 year olds in high income communities. There could be 2 factors to explain this, people in lower income areas could have a harder time finding/gaining employement. Or, because unemployment rates factor in people who are actively looking for jobs, a possible hypothesis is that higher income area 16 year olds are less likely to be looking for jobs. Since there is less pressure to support their family financially, they do not search for jobs at as high of a rate. \n",
    "\n",
    "More data like percentage of 16 year olds in the labor force, and rates of job applications vs job offers would be needed to determine if either or both of these factors could explain the data."
   ]
  },
  {
   "cell_type": "markdown",
   "id": "320fbceb-fe50-4827-8da2-75fe82732726",
   "metadata": {},
   "source": [
    "# Comparing Data from 2 Tables in SQL"
   ]
  },
  {
   "cell_type": "markdown",
   "id": "f190802c-1a20-4a97-95f5-532cb649b610",
   "metadata": {},
   "source": [
    "I will now bring in data from school data to compare it against the census data I have been looking at"
   ]
  },
  {
   "cell_type": "code",
   "execution_count": 93,
   "id": "1d9d89b7-2f64-4424-bfc3-01943ed4e163",
   "metadata": {},
   "outputs": [
    {
     "data": {
      "text/html": [
       "<div>\n",
       "<style scoped>\n",
       "    .dataframe tbody tr th:only-of-type {\n",
       "        vertical-align: middle;\n",
       "    }\n",
       "\n",
       "    .dataframe tbody tr th {\n",
       "        vertical-align: top;\n",
       "    }\n",
       "\n",
       "    .dataframe thead th {\n",
       "        text-align: right;\n",
       "    }\n",
       "</style>\n",
       "<table border=\"1\" class=\"dataframe\">\n",
       "  <thead>\n",
       "    <tr style=\"text-align: right;\">\n",
       "      <th></th>\n",
       "      <th>school_id</th>\n",
       "      <th>name_of_school</th>\n",
       "      <th>elementary_or_high_school</th>\n",
       "      <th>street_address</th>\n",
       "      <th>city</th>\n",
       "      <th>state</th>\n",
       "      <th>zip_code</th>\n",
       "      <th>phone_number</th>\n",
       "      <th>link_</th>\n",
       "      <th>network_manager</th>\n",
       "      <th>...</th>\n",
       "      <th>rcdts_code</th>\n",
       "      <th>x_coordinate</th>\n",
       "      <th>y_coordinate</th>\n",
       "      <th>latitude</th>\n",
       "      <th>longitude</th>\n",
       "      <th>community_area_number</th>\n",
       "      <th>community_area_name</th>\n",
       "      <th>ward</th>\n",
       "      <th>police_district</th>\n",
       "      <th>location</th>\n",
       "    </tr>\n",
       "  </thead>\n",
       "  <tbody>\n",
       "    <tr>\n",
       "      <th>0</th>\n",
       "      <td>610038</td>\n",
       "      <td>Abraham Lincoln Elementary School</td>\n",
       "      <td>ES</td>\n",
       "      <td>615 W Kemper Pl</td>\n",
       "      <td>Chicago</td>\n",
       "      <td>IL</td>\n",
       "      <td>60614</td>\n",
       "      <td>(773) 534-5720</td>\n",
       "      <td>http://schoolreports.cps.edu/SchoolProgressRep...</td>\n",
       "      <td>Fullerton Elementary Network</td>\n",
       "      <td>...</td>\n",
       "      <td>150000000000000</td>\n",
       "      <td>1171699.458</td>\n",
       "      <td>1915829.428</td>\n",
       "      <td>41.924497</td>\n",
       "      <td>-87.644522</td>\n",
       "      <td>7</td>\n",
       "      <td>LINCOLN PARK</td>\n",
       "      <td>43</td>\n",
       "      <td>18</td>\n",
       "      <td>(41.92449696, -87.64452163)</td>\n",
       "    </tr>\n",
       "    <tr>\n",
       "      <th>1</th>\n",
       "      <td>610281</td>\n",
       "      <td>Adam Clayton Powell Paideia Community Academy ...</td>\n",
       "      <td>ES</td>\n",
       "      <td>7511 S South Shore Dr</td>\n",
       "      <td>Chicago</td>\n",
       "      <td>IL</td>\n",
       "      <td>60649</td>\n",
       "      <td>(773) 535-6650</td>\n",
       "      <td>http://schoolreports.cps.edu/SchoolProgressRep...</td>\n",
       "      <td>Skyway Elementary Network</td>\n",
       "      <td>...</td>\n",
       "      <td>150000000000000</td>\n",
       "      <td>1196129.985</td>\n",
       "      <td>1856209.466</td>\n",
       "      <td>41.760324</td>\n",
       "      <td>-87.556736</td>\n",
       "      <td>43</td>\n",
       "      <td>SOUTH SHORE</td>\n",
       "      <td>7</td>\n",
       "      <td>4</td>\n",
       "      <td>(41.76032435, -87.55673627)</td>\n",
       "    </tr>\n",
       "    <tr>\n",
       "      <th>2</th>\n",
       "      <td>610185</td>\n",
       "      <td>Adlai E Stevenson Elementary School</td>\n",
       "      <td>ES</td>\n",
       "      <td>8010 S Kostner Ave</td>\n",
       "      <td>Chicago</td>\n",
       "      <td>IL</td>\n",
       "      <td>60652</td>\n",
       "      <td>(773) 535-2280</td>\n",
       "      <td>http://schoolreports.cps.edu/SchoolProgressRep...</td>\n",
       "      <td>Midway Elementary Network</td>\n",
       "      <td>...</td>\n",
       "      <td>150000000000000</td>\n",
       "      <td>1148427.165</td>\n",
       "      <td>1851012.215</td>\n",
       "      <td>41.747111</td>\n",
       "      <td>-87.731702</td>\n",
       "      <td>70</td>\n",
       "      <td>ASHBURN</td>\n",
       "      <td>13</td>\n",
       "      <td>8</td>\n",
       "      <td>(41.74711093, -87.73170248)</td>\n",
       "    </tr>\n",
       "    <tr>\n",
       "      <th>3</th>\n",
       "      <td>609993</td>\n",
       "      <td>Agustin Lara Elementary Academy</td>\n",
       "      <td>ES</td>\n",
       "      <td>4619 S Wolcott Ave</td>\n",
       "      <td>Chicago</td>\n",
       "      <td>IL</td>\n",
       "      <td>60609</td>\n",
       "      <td>(773) 535-4389</td>\n",
       "      <td>http://schoolreports.cps.edu/SchoolProgressRep...</td>\n",
       "      <td>Pershing Elementary Network</td>\n",
       "      <td>...</td>\n",
       "      <td>150000000000000</td>\n",
       "      <td>1164504.290</td>\n",
       "      <td>1873959.199</td>\n",
       "      <td>41.809757</td>\n",
       "      <td>-87.672145</td>\n",
       "      <td>61</td>\n",
       "      <td>NEW CITY</td>\n",
       "      <td>20</td>\n",
       "      <td>9</td>\n",
       "      <td>(41.8097569, -87.6721446)</td>\n",
       "    </tr>\n",
       "    <tr>\n",
       "      <th>4</th>\n",
       "      <td>610513</td>\n",
       "      <td>Air Force Academy High School</td>\n",
       "      <td>HS</td>\n",
       "      <td>3630 S Wells St</td>\n",
       "      <td>Chicago</td>\n",
       "      <td>IL</td>\n",
       "      <td>60609</td>\n",
       "      <td>(773) 535-1590</td>\n",
       "      <td>http://schoolreports.cps.edu/SchoolProgressRep...</td>\n",
       "      <td>Southwest Side High School Network</td>\n",
       "      <td>...</td>\n",
       "      <td>150000000000000</td>\n",
       "      <td>1175177.622</td>\n",
       "      <td>1880745.126</td>\n",
       "      <td>41.828146</td>\n",
       "      <td>-87.632794</td>\n",
       "      <td>34</td>\n",
       "      <td>ARMOUR SQUARE</td>\n",
       "      <td>11</td>\n",
       "      <td>9</td>\n",
       "      <td>(41.82814609, -87.63279369)</td>\n",
       "    </tr>\n",
       "  </tbody>\n",
       "</table>\n",
       "<p>5 rows × 79 columns</p>\n",
       "</div>"
      ],
      "text/plain": [
       "   school_id                                     name_of_school  \\\n",
       "0     610038                  Abraham Lincoln Elementary School   \n",
       "1     610281  Adam Clayton Powell Paideia Community Academy ...   \n",
       "2     610185                Adlai E Stevenson Elementary School   \n",
       "3     609993                    Agustin Lara Elementary Academy   \n",
       "4     610513                      Air Force Academy High School   \n",
       "\n",
       "  elementary_or_high_school          street_address     city state  zip_code  \\\n",
       "0                        ES        615 W Kemper Pl   Chicago    IL     60614   \n",
       "1                        ES  7511 S South Shore Dr   Chicago    IL     60649   \n",
       "2                        ES     8010 S Kostner Ave   Chicago    IL     60652   \n",
       "3                        ES     4619 S Wolcott Ave   Chicago    IL     60609   \n",
       "4                        HS        3630 S Wells St   Chicago    IL     60609   \n",
       "\n",
       "     phone_number                                              link_  \\\n",
       "0  (773) 534-5720  http://schoolreports.cps.edu/SchoolProgressRep...   \n",
       "1  (773) 535-6650  http://schoolreports.cps.edu/SchoolProgressRep...   \n",
       "2  (773) 535-2280  http://schoolreports.cps.edu/SchoolProgressRep...   \n",
       "3  (773) 535-4389  http://schoolreports.cps.edu/SchoolProgressRep...   \n",
       "4  (773) 535-1590  http://schoolreports.cps.edu/SchoolProgressRep...   \n",
       "\n",
       "                      network_manager  ...       rcdts_code x_coordinate  \\\n",
       "0        Fullerton Elementary Network  ...  150000000000000  1171699.458   \n",
       "1           Skyway Elementary Network  ...  150000000000000  1196129.985   \n",
       "2           Midway Elementary Network  ...  150000000000000  1148427.165   \n",
       "3         Pershing Elementary Network  ...  150000000000000  1164504.290   \n",
       "4  Southwest Side High School Network  ...  150000000000000  1175177.622   \n",
       "\n",
       "  y_coordinate   latitude  longitude community_area_number  \\\n",
       "0  1915829.428  41.924497 -87.644522                     7   \n",
       "1  1856209.466  41.760324 -87.556736                    43   \n",
       "2  1851012.215  41.747111 -87.731702                    70   \n",
       "3  1873959.199  41.809757 -87.672145                    61   \n",
       "4  1880745.126  41.828146 -87.632794                    34   \n",
       "\n",
       "  community_area_name  ward police_district                     location  \n",
       "0        LINCOLN PARK    43              18  (41.92449696, -87.64452163)  \n",
       "1         SOUTH SHORE     7               4  (41.76032435, -87.55673627)  \n",
       "2             ASHBURN    13               8  (41.74711093, -87.73170248)  \n",
       "3            NEW CITY    20               9    (41.8097569, -87.6721446)  \n",
       "4       ARMOUR SQUARE    11               9  (41.82814609, -87.63279369)  \n",
       "\n",
       "[5 rows x 79 columns]"
      ]
     },
     "execution_count": 93,
     "metadata": {},
     "output_type": "execute_result"
    }
   ],
   "source": [
    "#Bring the data in, this time I will read it directly from the City of Chicago website:\n",
    "school = pd.read_csv (\"https://data.cityofchicago.org/resource/9xs2-f89t.csv\")\n",
    "\n",
    "#Read the data to a new sql table in the db\n",
    "school.to_sql(\"CHICAGO_PUBLIC_SCHOOLS_DATA\", con, if_exists='replace', index=False, method=\"multi\")\n",
    "#print dataframe\n",
    "school.head()"
   ]
  },
  {
   "cell_type": "markdown",
   "id": "4a6856d9-c81f-48a7-8201-0c35a0cc88fb",
   "metadata": {},
   "source": [
    "What is the per capita income and hardship index for the 10 High Schools with the lowest safety score?"
   ]
  },
  {
   "cell_type": "code",
   "execution_count": 254,
   "id": "876cb6d6-38b8-4f13-adf2-d0a52e001435",
   "metadata": {},
   "outputs": [
    {
     "name": "stdout",
     "output_type": "stream",
     "text": [
      " * sqlite:///socioeconomic.db\n",
      "Done.\n"
     ]
    },
    {
     "data": {
      "text/html": [
       "<table>\n",
       "    <thead>\n",
       "        <tr>\n",
       "            <th>School name</th>\n",
       "            <th> Per Capita Income ($)</th>\n",
       "            <th>Hardship Index</th>\n",
       "            <th>safety_score</th>\n",
       "        </tr>\n",
       "    </thead>\n",
       "    <tbody>\n",
       "        <tr>\n",
       "            <td>Emil G Hirsch Metropolitan High School</td>\n",
       "            <td>17285</td>\n",
       "            <td>66.0</td>\n",
       "            <td>13.0</td>\n",
       "        </tr>\n",
       "        <tr>\n",
       "            <td>John Fiske Elementary School</td>\n",
       "            <td>18672</td>\n",
       "            <td>58.0</td>\n",
       "            <td>13.0</td>\n",
       "        </tr>\n",
       "        <tr>\n",
       "            <td>William W Carter Elementary School</td>\n",
       "            <td>13785</td>\n",
       "            <td>88.0</td>\n",
       "            <td>13.0</td>\n",
       "        </tr>\n",
       "        <tr>\n",
       "            <td>Countee Cullen Elementary School</td>\n",
       "            <td>17949</td>\n",
       "            <td>52.0</td>\n",
       "            <td>14.0</td>\n",
       "        </tr>\n",
       "        <tr>\n",
       "            <td>Gage Park High School</td>\n",
       "            <td>12171</td>\n",
       "            <td>93.0</td>\n",
       "            <td>14.0</td>\n",
       "        </tr>\n",
       "        <tr>\n",
       "            <td>Isabelle C O&#x27;Keeffe Elementary School</td>\n",
       "            <td>19398</td>\n",
       "            <td>55.0</td>\n",
       "            <td>17.0</td>\n",
       "        </tr>\n",
       "        <tr>\n",
       "            <td>New Millennium High School of Health at Bowen</td>\n",
       "            <td>16579</td>\n",
       "            <td>75.0</td>\n",
       "            <td>17.0</td>\n",
       "        </tr>\n",
       "        <tr>\n",
       "            <td>Songhai Elementary Learning Institute</td>\n",
       "            <td>16563</td>\n",
       "            <td>62.0</td>\n",
       "            <td>17.0</td>\n",
       "        </tr>\n",
       "        <tr>\n",
       "            <td>Charles S Brownell Elementary School</td>\n",
       "            <td>17285</td>\n",
       "            <td>66.0</td>\n",
       "            <td>20.0</td>\n",
       "        </tr>\n",
       "        <tr>\n",
       "            <td>Florence B Price Elementary School</td>\n",
       "            <td>35911</td>\n",
       "            <td>26.0</td>\n",
       "            <td>20.0</td>\n",
       "        </tr>\n",
       "    </tbody>\n",
       "</table>"
      ],
      "text/plain": [
       "[('Emil G Hirsch Metropolitan High School', 17285, 66.0, 13.0),\n",
       " ('John Fiske Elementary School', 18672, 58.0, 13.0),\n",
       " ('William W Carter Elementary School', 13785, 88.0, 13.0),\n",
       " ('Countee Cullen Elementary School', 17949, 52.0, 14.0),\n",
       " ('Gage Park High School', 12171, 93.0, 14.0),\n",
       " (\"Isabelle C O'Keeffe Elementary School\", 19398, 55.0, 17.0),\n",
       " ('New Millennium High School of Health at Bowen', 16579, 75.0, 17.0),\n",
       " ('Songhai Elementary Learning Institute', 16563, 62.0, 17.0),\n",
       " ('Charles S Brownell Elementary School', 17285, 66.0, 20.0),\n",
       " ('Florence B Price Elementary School', 35911, 26.0, 20.0)]"
      ]
     },
     "execution_count": 254,
     "metadata": {},
     "output_type": "execute_result"
    }
   ],
   "source": [
    "%%sql \n",
    "SELECT CPS.name_of_school as \"School name\", CD.PER_CAPITA_INCOME_ as \" Per Capita Income ($)\",\n",
    "    CD.HARDSHIP_INDEX as \"Hardship Index\", CPS.safety_score\n",
    "    FROM CHICAGO_PUBLIC_SCHOOLS_DATA CPS, chicago_socioeconomic_data CD\n",
    "    WHERE CPS.community_area_number  = CD.community_area_number AND CPS.safety_score IN\n",
    "    (select safety_score FROM CHICAGO_PUBLIC_SCHOOLS_DATA WHERE elementary_or_high_school = 'HS' \n",
    "    ORDER BY safety_score nulls last limit 10)\n",
    "    ORDER BY CPS.safety_score nulls last limit 10"
   ]
  },
  {
   "cell_type": "markdown",
   "id": "675244ce-cc71-4d7c-87f1-655780080218",
   "metadata": {},
   "source": [
    "What are the graduation rates of High Schools in the lowest five income per capita communities?"
   ]
  },
  {
   "cell_type": "code",
   "execution_count": 213,
   "id": "226f896f-2706-4bee-984b-9073078bd997",
   "metadata": {},
   "outputs": [
    {
     "name": "stdout",
     "output_type": "stream",
     "text": [
      " * sqlite:///socioeconomic.db\n",
      "Done.\n"
     ]
    },
    {
     "data": {
      "text/html": [
       "<table>\n",
       "    <thead>\n",
       "        <tr>\n",
       "            <th>School name</th>\n",
       "            <th>Community</th>\n",
       "            <th>Graduation rate (%)</th>\n",
       "            <th> Per Capita Income ($)</th>\n",
       "        </tr>\n",
       "    </thead>\n",
       "    <tbody>\n",
       "        <tr>\n",
       "            <td>George Washington Carver Military Academy High School</td>\n",
       "            <td>RIVERDALE</td>\n",
       "            <td>78.7</td>\n",
       "            <td>8201</td>\n",
       "        </tr>\n",
       "        <tr>\n",
       "            <td>David G Farragut Career Academy High School</td>\n",
       "            <td>SOUTH LAWNDALE</td>\n",
       "            <td>43.2</td>\n",
       "            <td>10402</td>\n",
       "        </tr>\n",
       "        <tr>\n",
       "            <td>Greater Lawndale High School For Social Justice</td>\n",
       "            <td>SOUTH LAWNDALE</td>\n",
       "            <td>67</td>\n",
       "            <td>10402</td>\n",
       "        </tr>\n",
       "        <tr>\n",
       "            <td>Infinity Math Science and Technology High School</td>\n",
       "            <td>SOUTH LAWNDALE</td>\n",
       "            <td>84.4</td>\n",
       "            <td>10402</td>\n",
       "        </tr>\n",
       "        <tr>\n",
       "            <td>Multicultural Academy of Scholarship</td>\n",
       "            <td>SOUTH LAWNDALE</td>\n",
       "            <td>58</td>\n",
       "            <td>10402</td>\n",
       "        </tr>\n",
       "        <tr>\n",
       "            <td>Spry Community Links High School</td>\n",
       "            <td>SOUTH LAWNDALE</td>\n",
       "            <td>73.7</td>\n",
       "            <td>10402</td>\n",
       "        </tr>\n",
       "        <tr>\n",
       "            <td>World Language Academy High School</td>\n",
       "            <td>SOUTH LAWNDALE</td>\n",
       "            <td>69.4</td>\n",
       "            <td>10402</td>\n",
       "        </tr>\n",
       "        <tr>\n",
       "            <td>Robert Lindblom Math &amp; Science Academy High School</td>\n",
       "            <td>WEST ENGLEWOOD</td>\n",
       "            <td>68.9</td>\n",
       "            <td>11317</td>\n",
       "        </tr>\n",
       "        <tr>\n",
       "            <td>Southside Occupational Academy High School</td>\n",
       "            <td>WEST ENGLEWOOD</td>\n",
       "            <td>71.7</td>\n",
       "            <td>11317</td>\n",
       "        </tr>\n",
       "        <tr>\n",
       "            <td>William Rainey Harper High School</td>\n",
       "            <td>WEST ENGLEWOOD</td>\n",
       "            <td>37</td>\n",
       "            <td>11317</td>\n",
       "        </tr>\n",
       "    </tbody>\n",
       "</table>"
      ],
      "text/plain": [
       "[('George Washington Carver Military Academy High School', 'RIVERDALE', '78.7', 8201),\n",
       " ('David G Farragut Career Academy High School', 'SOUTH LAWNDALE', '43.2', 10402),\n",
       " ('Greater Lawndale High School For Social Justice', 'SOUTH LAWNDALE', '67', 10402),\n",
       " ('Infinity Math Science and Technology High School', 'SOUTH LAWNDALE', '84.4', 10402),\n",
       " ('Multicultural Academy of Scholarship', 'SOUTH LAWNDALE', '58', 10402),\n",
       " ('Spry Community Links High School', 'SOUTH LAWNDALE', '73.7', 10402),\n",
       " ('World Language Academy High School', 'SOUTH LAWNDALE', '69.4', 10402),\n",
       " ('Robert Lindblom Math & Science Academy High School', 'WEST ENGLEWOOD', '68.9', 11317),\n",
       " ('Southside Occupational Academy High School', 'WEST ENGLEWOOD', '71.7', 11317),\n",
       " ('William Rainey Harper High School', 'WEST ENGLEWOOD', '37', 11317)]"
      ]
     },
     "execution_count": 213,
     "metadata": {},
     "output_type": "execute_result"
    }
   ],
   "source": [
    "%%sql \n",
    "SELECT CPS.name_of_school as \"School name\", CPS.community_area_name as \"Community\", \n",
    "    CPS.graduation_rate_ as 'Graduation rate (%)', CD.PER_CAPITA_INCOME_ as \" Per Capita Income ($)\"\n",
    "    FROM CHICAGO_PUBLIC_SCHOOLS_DATA CPS, chicago_socioeconomic_data CD\n",
    "    WHERE CPS.community_area_number  = CD.community_area_number AND CPS.community_area_number IN\n",
    "    (select community_area_number FROM chicago_socioeconomic_data ORDER BY PER_CAPITA_INCOME_ nulls last limit 5)\n",
    "    AND CPS.graduation_rate_ <> 'NDA' AND CPS.elementary_or_high_school = 'HS'\n",
    "    ORDER BY CD.PER_CAPITA_INCOME_"
   ]
  },
  {
   "cell_type": "markdown",
   "id": "1937cb1b-a94a-44e2-8f8b-31da967de5fc",
   "metadata": {},
   "source": [
    "What about the highest five? How does this compare to the city average?"
   ]
  },
  {
   "cell_type": "code",
   "execution_count": 221,
   "id": "cafb938c-bfad-4c96-8324-45803631fd8b",
   "metadata": {},
   "outputs": [
    {
     "name": "stdout",
     "output_type": "stream",
     "text": [
      " * sqlite:///socioeconomic.db\n",
      "Done.\n"
     ]
    },
    {
     "data": {
      "text/html": [
       "<table>\n",
       "    <thead>\n",
       "        <tr>\n",
       "            <th>School name</th>\n",
       "            <th>Community</th>\n",
       "            <th>Graduation rate (%)</th>\n",
       "            <th> Per Capita Income ($)</th>\n",
       "        </tr>\n",
       "    </thead>\n",
       "    <tbody>\n",
       "        <tr>\n",
       "            <td>Walter Payton College Preparatory High School</td>\n",
       "            <td>NEAR NORTH SIDE</td>\n",
       "            <td>96.9</td>\n",
       "            <td>88669</td>\n",
       "        </tr>\n",
       "        <tr>\n",
       "            <td>Lincoln Park High School</td>\n",
       "            <td>LINCOLN PARK</td>\n",
       "            <td>77.9</td>\n",
       "            <td>71551</td>\n",
       "        </tr>\n",
       "        <tr>\n",
       "            <td>William Jones College Preparatory High School</td>\n",
       "            <td>LOOP</td>\n",
       "            <td>90.1</td>\n",
       "            <td>65526</td>\n",
       "        </tr>\n",
       "        <tr>\n",
       "            <td>Lake View High School</td>\n",
       "            <td>LAKE VIEW</td>\n",
       "            <td>81.4</td>\n",
       "            <td>60058</td>\n",
       "        </tr>\n",
       "        <tr>\n",
       "            <td>Ray Graham Training Center High School</td>\n",
       "            <td>NEAR SOUTH SIDE</td>\n",
       "            <td>10.3</td>\n",
       "            <td>59077</td>\n",
       "        </tr>\n",
       "    </tbody>\n",
       "</table>"
      ],
      "text/plain": [
       "[('Walter Payton College Preparatory High School', 'NEAR NORTH SIDE', '96.9', 88669),\n",
       " ('Lincoln Park High School', 'LINCOLN PARK', '77.9', 71551),\n",
       " ('William Jones College Preparatory High School', 'LOOP', '90.1', 65526),\n",
       " ('Lake View High School', 'LAKE VIEW', '81.4', 60058),\n",
       " ('Ray Graham Training Center High School', 'NEAR SOUTH SIDE', '10.3', 59077)]"
      ]
     },
     "execution_count": 221,
     "metadata": {},
     "output_type": "execute_result"
    }
   ],
   "source": [
    "%%sql \n",
    "SELECT CPS.name_of_school as \"School name\", CPS.community_area_name as \"Community\", \n",
    "    CPS.graduation_rate_ as 'Graduation rate (%)', CD.PER_CAPITA_INCOME_ as \" Per Capita Income ($)\"\n",
    "    FROM CHICAGO_PUBLIC_SCHOOLS_DATA CPS, chicago_socioeconomic_data CD\n",
    "    WHERE CPS.community_area_number  = CD.community_area_number AND CPS.community_area_number IN\n",
    "    (select community_area_number FROM chicago_socioeconomic_data ORDER BY PER_CAPITA_INCOME_ DESC nulls last limit 5)\n",
    "    AND CPS.graduation_rate_ <> 'NDA' AND CPS.elementary_or_high_school = 'HS'\n",
    "    ORDER BY CD.PER_CAPITA_INCOME_ DESC"
   ]
  },
  {
   "cell_type": "code",
   "execution_count": 197,
   "id": "d6b3e42d-7e49-4cac-a0f3-4c5868faf76b",
   "metadata": {},
   "outputs": [
    {
     "name": "stdout",
     "output_type": "stream",
     "text": [
      " * sqlite:///socioeconomic.db\n",
      "Done.\n"
     ]
    },
    {
     "data": {
      "text/html": [
       "<table>\n",
       "    <thead>\n",
       "        <tr>\n",
       "            <th>City Wide Average Graduation Rate</th>\n",
       "        </tr>\n",
       "    </thead>\n",
       "    <tbody>\n",
       "        <tr>\n",
       "            <td>61.67088607594937</td>\n",
       "        </tr>\n",
       "    </tbody>\n",
       "</table>"
      ],
      "text/plain": [
       "[(61.67088607594937,)]"
      ]
     },
     "execution_count": 197,
     "metadata": {},
     "output_type": "execute_result"
    }
   ],
   "source": [
    "%%sql \n",
    "SELECT AVG(graduation_rate_) as 'City Wide Average Graduation Rate'"
   ]
  },
  {
   "cell_type": "markdown",
   "id": "b9989f95-61f0-4272-93f8-ee6f9eb1d6f0",
   "metadata": {},
   "source": [
    "# Plotting"
   ]
  },
  {
   "cell_type": "code",
   "execution_count": 258,
   "id": "9c3447fe-675d-4a86-ba3f-74f0e81b92d9",
   "metadata": {},
   "outputs": [],
   "source": [
    "#Close connection to db\n",
    "\n",
    "con.close()"
   ]
  },
  {
   "cell_type": "code",
   "execution_count": null,
   "id": "3abb175e-19d5-43f4-bbad-e28321234b4c",
   "metadata": {},
   "outputs": [],
   "source": []
  }
 ],
 "metadata": {
  "kernelspec": {
   "display_name": "Python 3 (ipykernel)",
   "language": "python",
   "name": "python3"
  },
  "language_info": {
   "codemirror_mode": {
    "name": "ipython",
    "version": 3
   },
   "file_extension": ".py",
   "mimetype": "text/x-python",
   "name": "python",
   "nbconvert_exporter": "python",
   "pygments_lexer": "ipython3",
   "version": "3.12.3"
  }
 },
 "nbformat": 4,
 "nbformat_minor": 5
}
